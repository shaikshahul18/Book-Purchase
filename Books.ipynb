{
 "cells": [
  {
   "cell_type": "markdown",
   "metadata": {},
   "source": [
    "# Importing Libraries Initial Libraires"
   ]
  },
  {
   "cell_type": "code",
   "execution_count": 327,
   "metadata": {},
   "outputs": [],
   "source": [
    "import numpy as np\n",
    "import pandas as pd\n",
    "import matplotlib.pyplot as plt\n",
    "import seaborn as sns"
   ]
  },
  {
   "cell_type": "markdown",
   "metadata": {},
   "source": [
    "# Reading Data Sets"
   ]
  },
  {
   "cell_type": "code",
   "execution_count": 328,
   "metadata": {},
   "outputs": [
    {
     "data": {
      "text/html": [
       "<div>\n",
       "<style scoped>\n",
       "    .dataframe tbody tr th:only-of-type {\n",
       "        vertical-align: middle;\n",
       "    }\n",
       "\n",
       "    .dataframe tbody tr th {\n",
       "        vertical-align: top;\n",
       "    }\n",
       "\n",
       "    .dataframe thead th {\n",
       "        text-align: right;\n",
       "    }\n",
       "</style>\n",
       "<table border=\"1\" class=\"dataframe\">\n",
       "  <thead>\n",
       "    <tr style=\"text-align: right;\">\n",
       "      <th></th>\n",
       "      <th>customer_id</th>\n",
       "      <th>age_bucket</th>\n",
       "      <th>is_returning_customer</th>\n",
       "      <th>favorite_genres</th>\n",
       "    </tr>\n",
       "  </thead>\n",
       "  <tbody>\n",
       "    <tr>\n",
       "      <th>0</th>\n",
       "      <td>1000078</td>\n",
       "      <td>46-55</td>\n",
       "      <td>True</td>\n",
       "      <td>['Classic', 'History', 'Self-Help', 'Romance',...</td>\n",
       "    </tr>\n",
       "    <tr>\n",
       "      <th>1</th>\n",
       "      <td>1000102</td>\n",
       "      <td>46-55</td>\n",
       "      <td>True</td>\n",
       "      <td>['Beach-Read', 'Pop-Sci', 'Pop-Psychology', 'B...</td>\n",
       "    </tr>\n",
       "    <tr>\n",
       "      <th>2</th>\n",
       "      <td>1000185</td>\n",
       "      <td>46-55</td>\n",
       "      <td>True</td>\n",
       "      <td>['Romance', 'Self-Help', 'Beach-Read', 'Pop-Ps...</td>\n",
       "    </tr>\n",
       "    <tr>\n",
       "      <th>3</th>\n",
       "      <td>1000423</td>\n",
       "      <td>26-35</td>\n",
       "      <td>True</td>\n",
       "      <td>['Classic', 'Drama']</td>\n",
       "    </tr>\n",
       "    <tr>\n",
       "      <th>4</th>\n",
       "      <td>1000696</td>\n",
       "      <td>66+</td>\n",
       "      <td>True</td>\n",
       "      <td>['Drama', 'Thriller', 'Sci-Fi', 'Romance', 'Hi...</td>\n",
       "    </tr>\n",
       "  </tbody>\n",
       "</table>\n",
       "</div>"
      ],
      "text/plain": [
       "   customer_id age_bucket  is_returning_customer  \\\n",
       "0      1000078      46-55                   True   \n",
       "1      1000102      46-55                   True   \n",
       "2      1000185      46-55                   True   \n",
       "3      1000423      26-35                   True   \n",
       "4      1000696        66+                   True   \n",
       "\n",
       "                                     favorite_genres  \n",
       "0  ['Classic', 'History', 'Self-Help', 'Romance',...  \n",
       "1  ['Beach-Read', 'Pop-Sci', 'Pop-Psychology', 'B...  \n",
       "2  ['Romance', 'Self-Help', 'Beach-Read', 'Pop-Ps...  \n",
       "3                               ['Classic', 'Drama']  \n",
       "4  ['Drama', 'Thriller', 'Sci-Fi', 'Romance', 'Hi...  "
      ]
     },
     "execution_count": 328,
     "metadata": {},
     "output_type": "execute_result"
    }
   ],
   "source": [
    "customer = pd.read_csv('customer_features.csv')\n",
    "customer.head()"
   ]
  },
  {
   "cell_type": "code",
   "execution_count": 329,
   "metadata": {},
   "outputs": [
    {
     "data": {
      "text/html": [
       "<div>\n",
       "<style scoped>\n",
       "    .dataframe tbody tr th:only-of-type {\n",
       "        vertical-align: middle;\n",
       "    }\n",
       "\n",
       "    .dataframe tbody tr th {\n",
       "        vertical-align: top;\n",
       "    }\n",
       "\n",
       "    .dataframe thead th {\n",
       "        text-align: right;\n",
       "    }\n",
       "</style>\n",
       "<table border=\"1\" class=\"dataframe\">\n",
       "  <thead>\n",
       "    <tr style=\"text-align: right;\">\n",
       "      <th></th>\n",
       "      <th>customer_id</th>\n",
       "      <th>product_id</th>\n",
       "      <th>purchased</th>\n",
       "    </tr>\n",
       "  </thead>\n",
       "  <tbody>\n",
       "    <tr>\n",
       "      <th>0</th>\n",
       "      <td>1000078</td>\n",
       "      <td>1730073</td>\n",
       "      <td>False</td>\n",
       "    </tr>\n",
       "    <tr>\n",
       "      <th>1</th>\n",
       "      <td>1000078</td>\n",
       "      <td>1470520</td>\n",
       "      <td>False</td>\n",
       "    </tr>\n",
       "    <tr>\n",
       "      <th>2</th>\n",
       "      <td>1000078</td>\n",
       "      <td>1861356</td>\n",
       "      <td>False</td>\n",
       "    </tr>\n",
       "    <tr>\n",
       "      <th>3</th>\n",
       "      <td>1000078</td>\n",
       "      <td>1240824</td>\n",
       "      <td>True</td>\n",
       "    </tr>\n",
       "    <tr>\n",
       "      <th>4</th>\n",
       "      <td>1000078</td>\n",
       "      <td>1155460</td>\n",
       "      <td>False</td>\n",
       "    </tr>\n",
       "  </tbody>\n",
       "</table>\n",
       "</div>"
      ],
      "text/plain": [
       "   customer_id  product_id  purchased\n",
       "0      1000078     1730073      False\n",
       "1      1000078     1470520      False\n",
       "2      1000078     1861356      False\n",
       "3      1000078     1240824       True\n",
       "4      1000078     1155460      False"
      ]
     },
     "execution_count": 329,
     "metadata": {},
     "output_type": "execute_result"
    }
   ],
   "source": [
    "last_month = pd.read_csv('last_month_assortment.csv')\n",
    "last_month.head()"
   ]
  },
  {
   "cell_type": "code",
   "execution_count": 330,
   "metadata": {},
   "outputs": [
    {
     "data": {
      "text/html": [
       "<div>\n",
       "<style scoped>\n",
       "    .dataframe tbody tr th:only-of-type {\n",
       "        vertical-align: middle;\n",
       "    }\n",
       "\n",
       "    .dataframe tbody tr th {\n",
       "        vertical-align: top;\n",
       "    }\n",
       "\n",
       "    .dataframe thead th {\n",
       "        text-align: right;\n",
       "    }\n",
       "</style>\n",
       "<table border=\"1\" class=\"dataframe\">\n",
       "  <thead>\n",
       "    <tr style=\"text-align: right;\">\n",
       "      <th></th>\n",
       "      <th>customer_id</th>\n",
       "      <th>product_id</th>\n",
       "    </tr>\n",
       "  </thead>\n",
       "  <tbody>\n",
       "    <tr>\n",
       "      <th>0</th>\n",
       "      <td>1600785</td>\n",
       "      <td>1443029</td>\n",
       "    </tr>\n",
       "    <tr>\n",
       "      <th>1</th>\n",
       "      <td>1600785</td>\n",
       "      <td>1164138</td>\n",
       "    </tr>\n",
       "    <tr>\n",
       "      <th>2</th>\n",
       "      <td>1600785</td>\n",
       "      <td>1636511</td>\n",
       "    </tr>\n",
       "    <tr>\n",
       "      <th>3</th>\n",
       "      <td>1600785</td>\n",
       "      <td>1832547</td>\n",
       "    </tr>\n",
       "    <tr>\n",
       "      <th>4</th>\n",
       "      <td>1600785</td>\n",
       "      <td>1237420</td>\n",
       "    </tr>\n",
       "  </tbody>\n",
       "</table>\n",
       "</div>"
      ],
      "text/plain": [
       "   customer_id  product_id\n",
       "0      1600785     1443029\n",
       "1      1600785     1164138\n",
       "2      1600785     1636511\n",
       "3      1600785     1832547\n",
       "4      1600785     1237420"
      ]
     },
     "execution_count": 330,
     "metadata": {},
     "output_type": "execute_result"
    }
   ],
   "source": [
    "next_month = pd.read_csv('next_month_assortment.csv')\n",
    "next_month.head()"
   ]
  },
  {
   "cell_type": "code",
   "execution_count": 331,
   "metadata": {},
   "outputs": [
    {
     "data": {
      "text/html": [
       "<div>\n",
       "<style scoped>\n",
       "    .dataframe tbody tr th:only-of-type {\n",
       "        vertical-align: middle;\n",
       "    }\n",
       "\n",
       "    .dataframe tbody tr th {\n",
       "        vertical-align: top;\n",
       "    }\n",
       "\n",
       "    .dataframe thead th {\n",
       "        text-align: right;\n",
       "    }\n",
       "</style>\n",
       "<table border=\"1\" class=\"dataframe\">\n",
       "  <thead>\n",
       "    <tr style=\"text-align: right;\">\n",
       "      <th></th>\n",
       "      <th>product_id</th>\n",
       "      <th>quantity_purchased</th>\n",
       "      <th>cost_to_buy</th>\n",
       "      <th>retail_value</th>\n",
       "    </tr>\n",
       "  </thead>\n",
       "  <tbody>\n",
       "    <tr>\n",
       "      <th>0</th>\n",
       "      <td>1479507</td>\n",
       "      <td>39</td>\n",
       "      <td>1.82</td>\n",
       "      <td>12.68</td>\n",
       "    </tr>\n",
       "    <tr>\n",
       "      <th>1</th>\n",
       "      <td>1681385</td>\n",
       "      <td>55</td>\n",
       "      <td>1.73</td>\n",
       "      <td>12.88</td>\n",
       "    </tr>\n",
       "    <tr>\n",
       "      <th>2</th>\n",
       "      <td>1771749</td>\n",
       "      <td>37</td>\n",
       "      <td>1.26</td>\n",
       "      <td>10.38</td>\n",
       "    </tr>\n",
       "    <tr>\n",
       "      <th>3</th>\n",
       "      <td>1605149</td>\n",
       "      <td>49</td>\n",
       "      <td>1.47</td>\n",
       "      <td>11.27</td>\n",
       "    </tr>\n",
       "    <tr>\n",
       "      <th>4</th>\n",
       "      <td>1861356</td>\n",
       "      <td>34</td>\n",
       "      <td>1.98</td>\n",
       "      <td>10.41</td>\n",
       "    </tr>\n",
       "  </tbody>\n",
       "</table>\n",
       "</div>"
      ],
      "text/plain": [
       "   product_id  quantity_purchased  cost_to_buy  retail_value\n",
       "0     1479507                  39         1.82         12.68\n",
       "1     1681385                  55         1.73         12.88\n",
       "2     1771749                  37         1.26         10.38\n",
       "3     1605149                  49         1.47         11.27\n",
       "4     1861356                  34         1.98         10.41"
      ]
     },
     "execution_count": 331,
     "metadata": {},
     "output_type": "execute_result"
    }
   ],
   "source": [
    "next_order = pd.read_csv('next_purchase_order.csv')\n",
    "next_order.head()"
   ]
  },
  {
   "cell_type": "code",
   "execution_count": 332,
   "metadata": {},
   "outputs": [
    {
     "data": {
      "text/html": [
       "<div>\n",
       "<style scoped>\n",
       "    .dataframe tbody tr th:only-of-type {\n",
       "        vertical-align: middle;\n",
       "    }\n",
       "\n",
       "    .dataframe tbody tr th {\n",
       "        vertical-align: top;\n",
       "    }\n",
       "\n",
       "    .dataframe thead th {\n",
       "        text-align: right;\n",
       "    }\n",
       "</style>\n",
       "<table border=\"1\" class=\"dataframe\">\n",
       "  <thead>\n",
       "    <tr style=\"text-align: right;\">\n",
       "      <th></th>\n",
       "      <th>product_id</th>\n",
       "      <th>quantity_purchased</th>\n",
       "      <th>cost_to_buy</th>\n",
       "      <th>retail_value</th>\n",
       "    </tr>\n",
       "  </thead>\n",
       "  <tbody>\n",
       "    <tr>\n",
       "      <th>0</th>\n",
       "      <td>1769808</td>\n",
       "      <td>77</td>\n",
       "      <td>2.20</td>\n",
       "      <td>16.67</td>\n",
       "    </tr>\n",
       "    <tr>\n",
       "      <th>1</th>\n",
       "      <td>1896283</td>\n",
       "      <td>67</td>\n",
       "      <td>1.46</td>\n",
       "      <td>9.59</td>\n",
       "    </tr>\n",
       "    <tr>\n",
       "      <th>2</th>\n",
       "      <td>1889979</td>\n",
       "      <td>80</td>\n",
       "      <td>2.06</td>\n",
       "      <td>13.36</td>\n",
       "    </tr>\n",
       "    <tr>\n",
       "      <th>3</th>\n",
       "      <td>1341288</td>\n",
       "      <td>85</td>\n",
       "      <td>1.25</td>\n",
       "      <td>6.57</td>\n",
       "    </tr>\n",
       "    <tr>\n",
       "      <th>4</th>\n",
       "      <td>1666328</td>\n",
       "      <td>60</td>\n",
       "      <td>1.51</td>\n",
       "      <td>10.49</td>\n",
       "    </tr>\n",
       "  </tbody>\n",
       "</table>\n",
       "</div>"
      ],
      "text/plain": [
       "   product_id  quantity_purchased  cost_to_buy  retail_value\n",
       "0     1769808                  77         2.20         16.67\n",
       "1     1896283                  67         1.46          9.59\n",
       "2     1889979                  80         2.06         13.36\n",
       "3     1341288                  85         1.25          6.57\n",
       "4     1666328                  60         1.51         10.49"
      ]
     },
     "execution_count": 332,
     "metadata": {},
     "output_type": "execute_result"
    }
   ],
   "source": [
    "original_order = pd.read_csv('original_purchase_order.csv')\n",
    "original_order.head()"
   ]
  },
  {
   "cell_type": "code",
   "execution_count": 333,
   "metadata": {},
   "outputs": [
    {
     "data": {
      "text/html": [
       "<div>\n",
       "<style scoped>\n",
       "    .dataframe tbody tr th:only-of-type {\n",
       "        vertical-align: middle;\n",
       "    }\n",
       "\n",
       "    .dataframe tbody tr th {\n",
       "        vertical-align: top;\n",
       "    }\n",
       "\n",
       "    .dataframe thead th {\n",
       "        text-align: right;\n",
       "    }\n",
       "</style>\n",
       "<table border=\"1\" class=\"dataframe\">\n",
       "  <thead>\n",
       "    <tr style=\"text-align: right;\">\n",
       "      <th></th>\n",
       "      <th>product_id</th>\n",
       "      <th>length</th>\n",
       "      <th>difficulty</th>\n",
       "      <th>fiction</th>\n",
       "      <th>genre</th>\n",
       "    </tr>\n",
       "  </thead>\n",
       "  <tbody>\n",
       "    <tr>\n",
       "      <th>0</th>\n",
       "      <td>1769808</td>\n",
       "      <td>148</td>\n",
       "      <td>3</td>\n",
       "      <td>False</td>\n",
       "      <td>Self-Help</td>\n",
       "    </tr>\n",
       "    <tr>\n",
       "      <th>1</th>\n",
       "      <td>1896283</td>\n",
       "      <td>161</td>\n",
       "      <td>5</td>\n",
       "      <td>False</td>\n",
       "      <td>Biography</td>\n",
       "    </tr>\n",
       "    <tr>\n",
       "      <th>2</th>\n",
       "      <td>1889979</td>\n",
       "      <td>296</td>\n",
       "      <td>4</td>\n",
       "      <td>False</td>\n",
       "      <td>History</td>\n",
       "    </tr>\n",
       "    <tr>\n",
       "      <th>3</th>\n",
       "      <td>1341288</td>\n",
       "      <td>551</td>\n",
       "      <td>4</td>\n",
       "      <td>True</td>\n",
       "      <td>Thriller</td>\n",
       "    </tr>\n",
       "    <tr>\n",
       "      <th>4</th>\n",
       "      <td>1666328</td>\n",
       "      <td>623</td>\n",
       "      <td>-1</td>\n",
       "      <td>True</td>\n",
       "      <td>Sci-Fi</td>\n",
       "    </tr>\n",
       "  </tbody>\n",
       "</table>\n",
       "</div>"
      ],
      "text/plain": [
       "   product_id  length  difficulty  fiction      genre\n",
       "0     1769808     148           3    False  Self-Help\n",
       "1     1896283     161           5    False  Biography\n",
       "2     1889979     296           4    False    History\n",
       "3     1341288     551           4     True   Thriller\n",
       "4     1666328     623          -1     True     Sci-Fi"
      ]
     },
     "execution_count": 333,
     "metadata": {},
     "output_type": "execute_result"
    }
   ],
   "source": [
    "prod_features = pd.read_csv('product_features.csv')\n",
    "prod_features.head()"
   ]
  },
  {
   "cell_type": "markdown",
   "metadata": {},
   "source": [
    "# Data Cleaning"
   ]
  },
  {
   "cell_type": "code",
   "execution_count": 334,
   "metadata": {},
   "outputs": [
    {
     "data": {
      "image/png": "[encoded data removed]",
      "text/plain": [
       "<Figure size 432x288 with 2 Axes>"
      ]
     },
     "metadata": {
      "needs_background": "light"
     },
     "output_type": "display_data"
    }
   ],
   "source": [
    "sns.heatmap(customer.isnull())\n",
    "plt.show()"
   ]
  },
  {
   "cell_type": "markdown",
   "metadata": {},
   "source": [
    "WE CAN CLEARLY SEE THAT THERE ARE NULL VALUES IN THE AGE_BUCKET COLUMN, BUT WE DONT NEED THE AGE COLUMN, BECAUSE WHEN WE SELECT A PARTICULAR GENRE THE BOOKS MIGHT BE SEPARTED W.R.T THE AGE, LIKE FOR KIDS AND FOR ADULTS BUT BOTH THE BOOKS COME UNDER THE SAME GENRE, AND THE FAVOURITE GENRE'S HAS THE SAME, SO WE CAN REMOVE THE COLUMN."
   ]
  },
  {
   "cell_type": "code",
   "execution_count": 335,
   "metadata": {},
   "outputs": [],
   "source": [
    "customer.drop('age_bucket',axis=1,inplace = True)"
   ]
  },
  {
   "cell_type": "code",
   "execution_count": 336,
   "metadata": {},
   "outputs": [
    {
     "data": {
      "image/png": "[encoded data removed]",
      "text/plain": [
       "<Figure size 432x288 with 2 Axes>"
      ]
     },
     "metadata": {
      "needs_background": "light"
     },
     "output_type": "display_data"
    }
   ],
   "source": [
    "sns.heatmap(last_month.isnull())\n",
    "plt.show()"
   ]
  },
  {
   "cell_type": "markdown",
   "metadata": {},
   "source": [
    "NO NULL VALUES IN THE LAST MONTH TABLE"
   ]
  },
  {
   "cell_type": "code",
   "execution_count": 337,
   "metadata": {},
   "outputs": [
    {
     "data": {
      "image/png": "[encoded data removed]",
      "text/plain": [
       "<Figure size 432x288 with 2 Axes>"
      ]
     },
     "metadata": {
      "needs_background": "light"
     },
     "output_type": "display_data"
    }
   ],
   "source": [
    "sns.heatmap(next_month.isnull())\n",
    "plt.show()"
   ]
  },
  {
   "cell_type": "markdown",
   "metadata": {},
   "source": [
    "NO NULL VALUES IN THE NEXT MONTH TABLE"
   ]
  },
  {
   "cell_type": "code",
   "execution_count": 338,
   "metadata": {},
   "outputs": [
    {
     "data": {
      "image/png": "[encoded data removed]",
      "text/plain": [
       "<Figure size 432x288 with 2 Axes>"
      ]
     },
     "metadata": {
      "needs_background": "light"
     },
     "output_type": "display_data"
    }
   ],
   "source": [
    "sns.heatmap(next_order.isnull())\n",
    "plt.show()"
   ]
  },
  {
   "cell_type": "markdown",
   "metadata": {},
   "source": [
    "NO NULL VALUES IN THE NEXT ORDER TABLE"
   ]
  },
  {
   "cell_type": "code",
   "execution_count": 339,
   "metadata": {},
   "outputs": [
    {
     "data": {
      "image/png": "[encoded data removed]",
      "text/plain": [
       "<Figure size 432x288 with 2 Axes>"
      ]
     },
     "metadata": {
      "needs_background": "light"
     },
     "output_type": "display_data"
    }
   ],
   "source": [
    "sns.heatmap(original_order.isnull())\n",
    "plt.show()"
   ]
  },
  {
   "cell_type": "markdown",
   "metadata": {},
   "source": [
    "NO NULL VALUES IN THE ORIGINAL ORDER TABLE"
   ]
  },
  {
   "cell_type": "code",
   "execution_count": 340,
   "metadata": {},
   "outputs": [
    {
     "data": {
      "image/png": "[encoded data removed]",
      "text/plain": [
       "<Figure size 432x288 with 2 Axes>"
      ]
     },
     "metadata": {
      "needs_background": "light"
     },
     "output_type": "display_data"
    }
   ],
   "source": [
    "sns.heatmap(prod_features.isnull())\n",
    "plt.show()"
   ]
  },
  {
   "cell_type": "markdown",
   "metadata": {},
   "source": [
    "NO NULL VALUES IN THE PRODUCT FEATURES TABLE"
   ]
  },
  {
   "cell_type": "markdown",
   "metadata": {},
   "source": [
    "# Merging the data sets to create train data"
   ]
  },
  {
   "cell_type": "code",
   "execution_count": 573,
   "metadata": {},
   "outputs": [
    {
     "data": {
      "text/html": [
       "<div>\n",
       "<style scoped>\n",
       "    .dataframe tbody tr th:only-of-type {\n",
       "        vertical-align: middle;\n",
       "    }\n",
       "\n",
       "    .dataframe tbody tr th {\n",
       "        vertical-align: top;\n",
       "    }\n",
       "\n",
       "    .dataframe thead th {\n",
       "        text-align: right;\n",
       "    }\n",
       "</style>\n",
       "<table border=\"1\" class=\"dataframe\">\n",
       "  <thead>\n",
       "    <tr style=\"text-align: right;\">\n",
       "      <th></th>\n",
       "      <th>customer_id</th>\n",
       "      <th>is_returning_customer</th>\n",
       "      <th>favorite_genres</th>\n",
       "      <th>product_id</th>\n",
       "      <th>purchased</th>\n",
       "    </tr>\n",
       "  </thead>\n",
       "  <tbody>\n",
       "    <tr>\n",
       "      <th>0</th>\n",
       "      <td>1000078</td>\n",
       "      <td>True</td>\n",
       "      <td>['Classic', 'History', 'Self-Help', 'Romance',...</td>\n",
       "      <td>1730073</td>\n",
       "      <td>False</td>\n",
       "    </tr>\n",
       "    <tr>\n",
       "      <th>1</th>\n",
       "      <td>1000078</td>\n",
       "      <td>True</td>\n",
       "      <td>['Classic', 'History', 'Self-Help', 'Romance',...</td>\n",
       "      <td>1470520</td>\n",
       "      <td>False</td>\n",
       "    </tr>\n",
       "    <tr>\n",
       "      <th>2</th>\n",
       "      <td>1000078</td>\n",
       "      <td>True</td>\n",
       "      <td>['Classic', 'History', 'Self-Help', 'Romance',...</td>\n",
       "      <td>1861356</td>\n",
       "      <td>False</td>\n",
       "    </tr>\n",
       "    <tr>\n",
       "      <th>3</th>\n",
       "      <td>1000078</td>\n",
       "      <td>True</td>\n",
       "      <td>['Classic', 'History', 'Self-Help', 'Romance',...</td>\n",
       "      <td>1240824</td>\n",
       "      <td>True</td>\n",
       "    </tr>\n",
       "    <tr>\n",
       "      <th>4</th>\n",
       "      <td>1000078</td>\n",
       "      <td>True</td>\n",
       "      <td>['Classic', 'History', 'Self-Help', 'Romance',...</td>\n",
       "      <td>1155460</td>\n",
       "      <td>False</td>\n",
       "    </tr>\n",
       "  </tbody>\n",
       "</table>\n",
       "</div>"
      ],
      "text/plain": [
       "   customer_id  is_returning_customer  \\\n",
       "0      1000078                   True   \n",
       "1      1000078                   True   \n",
       "2      1000078                   True   \n",
       "3      1000078                   True   \n",
       "4      1000078                   True   \n",
       "\n",
       "                                     favorite_genres  product_id  purchased  \n",
       "0  ['Classic', 'History', 'Self-Help', 'Romance',...     1730073      False  \n",
       "1  ['Classic', 'History', 'Self-Help', 'Romance',...     1470520      False  \n",
       "2  ['Classic', 'History', 'Self-Help', 'Romance',...     1861356      False  \n",
       "3  ['Classic', 'History', 'Self-Help', 'Romance',...     1240824       True  \n",
       "4  ['Classic', 'History', 'Self-Help', 'Romance',...     1155460      False  "
      ]
     },
     "execution_count": 573,
     "metadata": {},
     "output_type": "execute_result"
    }
   ],
   "source": [
    "customer_last_month = pd.merge(customer,last_month,on='customer_id',how='inner')\n",
    "customer_last_month.head()"
   ]
  },
  {
   "cell_type": "code",
   "execution_count": 575,
   "metadata": {},
   "outputs": [
    {
     "data": {
      "text/html": [
       "<div>\n",
       "<style scoped>\n",
       "    .dataframe tbody tr th:only-of-type {\n",
       "        vertical-align: middle;\n",
       "    }\n",
       "\n",
       "    .dataframe tbody tr th {\n",
       "        vertical-align: top;\n",
       "    }\n",
       "\n",
       "    .dataframe thead th {\n",
       "        text-align: right;\n",
       "    }\n",
       "</style>\n",
       "<table border=\"1\" class=\"dataframe\">\n",
       "  <thead>\n",
       "    <tr style=\"text-align: right;\">\n",
       "      <th></th>\n",
       "      <th>customer_id</th>\n",
       "      <th>is_returning_customer</th>\n",
       "      <th>favorite_genres</th>\n",
       "      <th>product_id</th>\n",
       "      <th>purchased</th>\n",
       "      <th>length</th>\n",
       "      <th>difficulty</th>\n",
       "      <th>fiction</th>\n",
       "      <th>genre</th>\n",
       "    </tr>\n",
       "  </thead>\n",
       "  <tbody>\n",
       "    <tr>\n",
       "      <th>0</th>\n",
       "      <td>1000078</td>\n",
       "      <td>True</td>\n",
       "      <td>['Classic', 'History', 'Self-Help', 'Romance',...</td>\n",
       "      <td>1730073</td>\n",
       "      <td>False</td>\n",
       "      <td>219</td>\n",
       "      <td>4</td>\n",
       "      <td>True</td>\n",
       "      <td>Drama</td>\n",
       "    </tr>\n",
       "    <tr>\n",
       "      <th>1</th>\n",
       "      <td>1004863</td>\n",
       "      <td>True</td>\n",
       "      <td>['Biography', 'Thriller', 'Pop-Psychology', 'R...</td>\n",
       "      <td>1730073</td>\n",
       "      <td>False</td>\n",
       "      <td>219</td>\n",
       "      <td>4</td>\n",
       "      <td>True</td>\n",
       "      <td>Drama</td>\n",
       "    </tr>\n",
       "    <tr>\n",
       "      <th>2</th>\n",
       "      <td>1023962</td>\n",
       "      <td>True</td>\n",
       "      <td>['Thriller', 'History', 'Drama', 'Biography', ...</td>\n",
       "      <td>1730073</td>\n",
       "      <td>False</td>\n",
       "      <td>219</td>\n",
       "      <td>4</td>\n",
       "      <td>True</td>\n",
       "      <td>Drama</td>\n",
       "    </tr>\n",
       "    <tr>\n",
       "      <th>3</th>\n",
       "      <td>1051139</td>\n",
       "      <td>True</td>\n",
       "      <td>['History', 'Sci-Fi', 'Pop-Psychology', 'Roman...</td>\n",
       "      <td>1730073</td>\n",
       "      <td>False</td>\n",
       "      <td>219</td>\n",
       "      <td>4</td>\n",
       "      <td>True</td>\n",
       "      <td>Drama</td>\n",
       "    </tr>\n",
       "    <tr>\n",
       "      <th>4</th>\n",
       "      <td>1083822</td>\n",
       "      <td>False</td>\n",
       "      <td>['Biography', 'Thriller', 'Pop-Psychology', 'R...</td>\n",
       "      <td>1730073</td>\n",
       "      <td>False</td>\n",
       "      <td>219</td>\n",
       "      <td>4</td>\n",
       "      <td>True</td>\n",
       "      <td>Drama</td>\n",
       "    </tr>\n",
       "  </tbody>\n",
       "</table>\n",
       "</div>"
      ],
      "text/plain": [
       "   customer_id  is_returning_customer  \\\n",
       "0      1000078                   True   \n",
       "1      1004863                   True   \n",
       "2      1023962                   True   \n",
       "3      1051139                   True   \n",
       "4      1083822                  False   \n",
       "\n",
       "                                     favorite_genres  product_id  purchased  \\\n",
       "0  ['Classic', 'History', 'Self-Help', 'Romance',...     1730073      False   \n",
       "1  ['Biography', 'Thriller', 'Pop-Psychology', 'R...     1730073      False   \n",
       "2  ['Thriller', 'History', 'Drama', 'Biography', ...     1730073      False   \n",
       "3  ['History', 'Sci-Fi', 'Pop-Psychology', 'Roman...     1730073      False   \n",
       "4  ['Biography', 'Thriller', 'Pop-Psychology', 'R...     1730073      False   \n",
       "\n",
       "   length  difficulty  fiction  genre  \n",
       "0     219           4     True  Drama  \n",
       "1     219           4     True  Drama  \n",
       "2     219           4     True  Drama  \n",
       "3     219           4     True  Drama  \n",
       "4     219           4     True  Drama  "
      ]
     },
     "execution_count": 575,
     "metadata": {},
     "output_type": "execute_result"
    }
   ],
   "source": [
    "customer_last_month_features = pd.merge(customer_last_month,prod_features,on='product_id',how='inner')\n",
    "customer_last_month_features.head()"
   ]
  },
  {
   "cell_type": "code",
   "execution_count": 577,
   "metadata": {},
   "outputs": [],
   "source": [
    "customer_last_month_features.drop(['favorite_genres','genre'],axis = 1,inplace = True)"
   ]
  },
  {
   "cell_type": "code",
   "execution_count": 578,
   "metadata": {},
   "outputs": [],
   "source": [
    "train = customer_last_month_features.copy()"
   ]
  },
  {
   "cell_type": "code",
   "execution_count": 579,
   "metadata": {},
   "outputs": [
    {
     "data": {
      "text/html": [
       "<div>\n",
       "<style scoped>\n",
       "    .dataframe tbody tr th:only-of-type {\n",
       "        vertical-align: middle;\n",
       "    }\n",
       "\n",
       "    .dataframe tbody tr th {\n",
       "        vertical-align: top;\n",
       "    }\n",
       "\n",
       "    .dataframe thead th {\n",
       "        text-align: right;\n",
       "    }\n",
       "</style>\n",
       "<table border=\"1\" class=\"dataframe\">\n",
       "  <thead>\n",
       "    <tr style=\"text-align: right;\">\n",
       "      <th></th>\n",
       "      <th>customer_id</th>\n",
       "      <th>is_returning_customer</th>\n",
       "      <th>product_id</th>\n",
       "      <th>purchased</th>\n",
       "      <th>length</th>\n",
       "      <th>difficulty</th>\n",
       "      <th>fiction</th>\n",
       "    </tr>\n",
       "  </thead>\n",
       "  <tbody>\n",
       "    <tr>\n",
       "      <th>0</th>\n",
       "      <td>1000078</td>\n",
       "      <td>True</td>\n",
       "      <td>1730073</td>\n",
       "      <td>False</td>\n",
       "      <td>219</td>\n",
       "      <td>4</td>\n",
       "      <td>True</td>\n",
       "    </tr>\n",
       "    <tr>\n",
       "      <th>1</th>\n",
       "      <td>1004863</td>\n",
       "      <td>True</td>\n",
       "      <td>1730073</td>\n",
       "      <td>False</td>\n",
       "      <td>219</td>\n",
       "      <td>4</td>\n",
       "      <td>True</td>\n",
       "    </tr>\n",
       "    <tr>\n",
       "      <th>2</th>\n",
       "      <td>1023962</td>\n",
       "      <td>True</td>\n",
       "      <td>1730073</td>\n",
       "      <td>False</td>\n",
       "      <td>219</td>\n",
       "      <td>4</td>\n",
       "      <td>True</td>\n",
       "    </tr>\n",
       "    <tr>\n",
       "      <th>3</th>\n",
       "      <td>1051139</td>\n",
       "      <td>True</td>\n",
       "      <td>1730073</td>\n",
       "      <td>False</td>\n",
       "      <td>219</td>\n",
       "      <td>4</td>\n",
       "      <td>True</td>\n",
       "    </tr>\n",
       "    <tr>\n",
       "      <th>4</th>\n",
       "      <td>1083822</td>\n",
       "      <td>False</td>\n",
       "      <td>1730073</td>\n",
       "      <td>False</td>\n",
       "      <td>219</td>\n",
       "      <td>4</td>\n",
       "      <td>True</td>\n",
       "    </tr>\n",
       "  </tbody>\n",
       "</table>\n",
       "</div>"
      ],
      "text/plain": [
       "   customer_id  is_returning_customer  product_id  purchased  length  \\\n",
       "0      1000078                   True     1730073      False     219   \n",
       "1      1004863                   True     1730073      False     219   \n",
       "2      1023962                   True     1730073      False     219   \n",
       "3      1051139                   True     1730073      False     219   \n",
       "4      1083822                  False     1730073      False     219   \n",
       "\n",
       "   difficulty  fiction  \n",
       "0           4     True  \n",
       "1           4     True  \n",
       "2           4     True  \n",
       "3           4     True  \n",
       "4           4     True  "
      ]
     },
     "execution_count": 579,
     "metadata": {},
     "output_type": "execute_result"
    }
   ],
   "source": [
    "train.head()"
   ]
  },
  {
   "cell_type": "markdown",
   "metadata": {},
   "source": [
    "#  Data Visualization"
   ]
  },
  {
   "cell_type": "code",
   "execution_count": 580,
   "metadata": {},
   "outputs": [
    {
     "data": {
      "image/png": "[encoded data removed]",
      "text/plain": [
       "<Figure size 720x360 with 1 Axes>"
      ]
     },
     "metadata": {
      "needs_background": "light"
     },
     "output_type": "display_data"
    }
   ],
   "source": [
    "plt.figure(figsize=(10,5))\n",
    "sns.countplot(train['purchased'],hue = train['is_returning_customer'])\n",
    "plt.show()"
   ]
  },
  {
   "cell_type": "markdown",
   "metadata": {},
   "source": [
    "SO WE CAN CLEARLY SEE THAT THERE ARE SOME RETURNING CUSTOMER'S WHO DIDNT BUY, SO WE CAN LOOK AT THAT DATA AND ALSO PROVIDE INSIGHTS ON WHICH CUSTOMER ISN'T INTERESTED IN WHAT GENRE AND WE CAN STOP SENDING THAT KIND OF BOOKS TO THAT CUSTOMER."
   ]
  },
  {
   "cell_type": "code",
   "execution_count": 581,
   "metadata": {},
   "outputs": [
    {
     "data": {
      "image/png": "[encoded data removed]",
      "text/plain": [
       "<Figure size 720x360 with 1 Axes>"
      ]
     },
     "metadata": {
      "needs_background": "light"
     },
     "output_type": "display_data"
    }
   ],
   "source": [
    "plt.figure(figsize=(10,5))\n",
    "plot2 = sns.countplot(train['difficulty'],hue = train['purchased'])"
   ]
  },
  {
   "cell_type": "markdown",
   "metadata": {},
   "source": [
    "CLEARLY, DIFFICULY 1,2,4,5 BOOKS ARE SOLD LESS IN NUMBER WHEN COMPARED TO THE OTHER DIFFICULTY LEVELS, SO WE CAN ALSO REDUCE THE NUMBER OF ORDER FOR THESE DIFFICULTY LEVEL BOOKS."
   ]
  },
  {
   "cell_type": "code",
   "execution_count": 582,
   "metadata": {},
   "outputs": [
    {
     "data": {
      "image/png": "[encoded data removed]",
      "text/plain": [
       "<Figure size 720x360 with 2 Axes>"
      ]
     },
     "metadata": {
      "needs_background": "light"
     },
     "output_type": "display_data"
    }
   ],
   "source": [
    "plt.figure(figsize=(10,5))\n",
    "sns.heatmap(train.corr(),annot = True)\n",
    "plt.show()"
   ]
  },
  {
   "cell_type": "markdown",
   "metadata": {},
   "source": [
    "THERE ISN'T ANY STRONG CO-RELATION BETWEEN THE FEATURES "
   ]
  },
  {
   "cell_type": "markdown",
   "metadata": {},
   "source": [
    "# Converting categorical into numerical"
   ]
  },
  {
   "cell_type": "code",
   "execution_count": 583,
   "metadata": {},
   "outputs": [],
   "source": [
    "from sklearn.preprocessing import LabelEncoder\n",
    "le1 = LabelEncoder()\n",
    "le2 = LabelEncoder()\n",
    "le3 = LabelEncoder()"
   ]
  },
  {
   "cell_type": "markdown",
   "metadata": {},
   "source": [
    "WE HAVE THE OPTION TO CHOOSE BETWEEN LABEL ENCODER AND ONE HOT ENCODING, ONE HOT ENCODING IS USED ONLY WHEN WE KNOW THE ORDER OF THE CATEGORICAL DATA EX.HIGH,MEDIUM,LOW , AND LABEL ENCODER WHEN WE DON'T KNOW THE ORDER BUT WE JUST LABEL THEM, IT IS THE SAME CASE HERE THE CATEGORICAL VARIABLES HAVE NO SUCH ORDER AND SO WE USE LABEL ENCODING."
   ]
  },
  {
   "cell_type": "code",
   "execution_count": 584,
   "metadata": {},
   "outputs": [
    {
     "name": "stdout",
     "output_type": "stream",
     "text": [
      "<class 'pandas.core.frame.DataFrame'>\n",
      "Int64Index: 36000 entries, 0 to 35999\n",
      "Data columns (total 7 columns):\n",
      "customer_id              36000 non-null int64\n",
      "is_returning_customer    36000 non-null bool\n",
      "product_id               36000 non-null int64\n",
      "purchased                36000 non-null bool\n",
      "length                   36000 non-null int64\n",
      "difficulty               36000 non-null int64\n",
      "fiction                  36000 non-null bool\n",
      "dtypes: bool(3), int64(4)\n",
      "memory usage: 2.7 MB\n"
     ]
    }
   ],
   "source": [
    "train.info()"
   ]
  },
  {
   "cell_type": "code",
   "execution_count": 585,
   "metadata": {},
   "outputs": [],
   "source": [
    "train['is_returning_customer'] = le1.fit_transform(train['is_returning_customer'])\n",
    "train['purchased'] = le2.fit_transform(train['purchased'])\n",
    "train['fiction'] = le3.fit_transform(train['fiction'])"
   ]
  },
  {
   "cell_type": "markdown",
   "metadata": {},
   "source": [
    "# Model Building - Training Phase"
   ]
  },
  {
   "cell_type": "code",
   "execution_count": 586,
   "metadata": {},
   "outputs": [],
   "source": [
    "from sklearn.model_selection import train_test_split\n",
    "from sklearn.linear_model import LogisticRegression"
   ]
  },
  {
   "cell_type": "code",
   "execution_count": 587,
   "metadata": {},
   "outputs": [],
   "source": [
    "X = train.drop('purchased',axis = 1)\n",
    "y = train['purchased']"
   ]
  },
  {
   "cell_type": "code",
   "execution_count": 588,
   "metadata": {},
   "outputs": [],
   "source": [
    "X_train,X_test,y_train,y_test = train_test_split(X,y,test_size = 0.3,random_state = 0)"
   ]
  },
  {
   "cell_type": "code",
   "execution_count": 589,
   "metadata": {},
   "outputs": [],
   "source": [
    "model1 = LogisticRegression()"
   ]
  },
  {
   "cell_type": "code",
   "execution_count": 590,
   "metadata": {},
   "outputs": [
    {
     "name": "stderr",
     "output_type": "stream",
     "text": [
      "C:\\Users\\ummar\\Anaconda3\\lib\\site-packages\\sklearn\\linear_model\\logistic.py:432: FutureWarning: Default solver will be changed to 'lbfgs' in 0.22. Specify a solver to silence this warning.\n",
      "  FutureWarning)\n"
     ]
    },
    {
     "data": {
      "text/plain": [
       "LogisticRegression(C=1.0, class_weight=None, dual=False, fit_intercept=True,\n",
       "                   intercept_scaling=1, l1_ratio=None, max_iter=100,\n",
       "                   multi_class='warn', n_jobs=None, penalty='l2',\n",
       "                   random_state=None, solver='warn', tol=0.0001, verbose=0,\n",
       "                   warm_start=False)"
      ]
     },
     "execution_count": 590,
     "metadata": {},
     "output_type": "execute_result"
    }
   ],
   "source": [
    "model1.fit(X_train,y_train)"
   ]
  },
  {
   "cell_type": "code",
   "execution_count": 591,
   "metadata": {},
   "outputs": [
    {
     "data": {
      "text/plain": [
       "0.649074074074074"
      ]
     },
     "execution_count": 591,
     "metadata": {},
     "output_type": "execute_result"
    }
   ],
   "source": [
    "model1.score(X_test,y_test)"
   ]
  },
  {
   "cell_type": "code",
   "execution_count": 592,
   "metadata": {},
   "outputs": [],
   "source": [
    "from sklearn.metrics import confusion_matrix"
   ]
  },
  {
   "cell_type": "code",
   "execution_count": 593,
   "metadata": {},
   "outputs": [
    {
     "data": {
      "image/png": "[encoded data removed]",
      "text/plain": [
       "<Figure size 432x288 with 2 Axes>"
      ]
     },
     "metadata": {
      "needs_background": "light"
     },
     "output_type": "display_data"
    }
   ],
   "source": [
    "sns.heatmap(confusion_matrix(model1.predict(X_test),y_test),annot = True)\n",
    "plt.show()"
   ]
  },
  {
   "cell_type": "code",
   "execution_count": 594,
   "metadata": {},
   "outputs": [],
   "source": [
    "from sklearn.ensemble import ExtraTreesClassifier"
   ]
  },
  {
   "cell_type": "code",
   "execution_count": 595,
   "metadata": {},
   "outputs": [],
   "source": [
    "model2 = ExtraTreesClassifier()"
   ]
  },
  {
   "cell_type": "code",
   "execution_count": 596,
   "metadata": {},
   "outputs": [
    {
     "name": "stderr",
     "output_type": "stream",
     "text": [
      "C:\\Users\\ummar\\Anaconda3\\lib\\site-packages\\sklearn\\ensemble\\forest.py:245: FutureWarning: The default value of n_estimators will change from 10 in version 0.20 to 100 in 0.22.\n",
      "  \"10 in version 0.20 to 100 in 0.22.\", FutureWarning)\n"
     ]
    },
    {
     "data": {
      "text/plain": [
       "ExtraTreesClassifier(bootstrap=False, class_weight=None, criterion='gini',\n",
       "                     max_depth=None, max_features='auto', max_leaf_nodes=None,\n",
       "                     min_impurity_decrease=0.0, min_impurity_split=None,\n",
       "                     min_samples_leaf=1, min_samples_split=2,\n",
       "                     min_weight_fraction_leaf=0.0, n_estimators=10, n_jobs=None,\n",
       "                     oob_score=False, random_state=None, verbose=0,\n",
       "                     warm_start=False)"
      ]
     },
     "execution_count": 596,
     "metadata": {},
     "output_type": "execute_result"
    }
   ],
   "source": [
    "model2.fit(X_train,y_train)"
   ]
  },
  {
   "cell_type": "code",
   "execution_count": 597,
   "metadata": {},
   "outputs": [
    {
     "data": {
      "text/plain": [
       "0.6818518518518518"
      ]
     },
     "execution_count": 597,
     "metadata": {},
     "output_type": "execute_result"
    }
   ],
   "source": [
    "model2.score(X_test,y_test)"
   ]
  },
  {
   "cell_type": "code",
   "execution_count": 598,
   "metadata": {},
   "outputs": [
    {
     "data": {
      "image/png": "[encoded data removed]",
      "text/plain": [
       "<Figure size 432x288 with 2 Axes>"
      ]
     },
     "metadata": {
      "needs_background": "light"
     },
     "output_type": "display_data"
    }
   ],
   "source": [
    "sns.heatmap(confusion_matrix(model2.predict(X_test),y_test),annot = True)\n",
    "plt.show()"
   ]
  },
  {
   "cell_type": "code",
   "execution_count": 599,
   "metadata": {},
   "outputs": [],
   "source": [
    "from sklearn.ensemble import RandomForestClassifier"
   ]
  },
  {
   "cell_type": "code",
   "execution_count": 600,
   "metadata": {},
   "outputs": [],
   "source": [
    "model3 = RandomForestClassifier()"
   ]
  },
  {
   "cell_type": "code",
   "execution_count": 601,
   "metadata": {},
   "outputs": [
    {
     "name": "stderr",
     "output_type": "stream",
     "text": [
      "C:\\Users\\ummar\\Anaconda3\\lib\\site-packages\\sklearn\\ensemble\\forest.py:245: FutureWarning: The default value of n_estimators will change from 10 in version 0.20 to 100 in 0.22.\n",
      "  \"10 in version 0.20 to 100 in 0.22.\", FutureWarning)\n"
     ]
    },
    {
     "data": {
      "text/plain": [
       "RandomForestClassifier(bootstrap=True, class_weight=None, criterion='gini',\n",
       "                       max_depth=None, max_features='auto', max_leaf_nodes=None,\n",
       "                       min_impurity_decrease=0.0, min_impurity_split=None,\n",
       "                       min_samples_leaf=1, min_samples_split=2,\n",
       "                       min_weight_fraction_leaf=0.0, n_estimators=10,\n",
       "                       n_jobs=None, oob_score=False, random_state=None,\n",
       "                       verbose=0, warm_start=False)"
      ]
     },
     "execution_count": 601,
     "metadata": {},
     "output_type": "execute_result"
    }
   ],
   "source": [
    "model3.fit(X_train,y_train)"
   ]
  },
  {
   "cell_type": "code",
   "execution_count": 602,
   "metadata": {},
   "outputs": [
    {
     "data": {
      "text/plain": [
       "0.6949074074074074"
      ]
     },
     "execution_count": 602,
     "metadata": {},
     "output_type": "execute_result"
    }
   ],
   "source": [
    "model3.score(X_test,y_test)"
   ]
  },
  {
   "cell_type": "code",
   "execution_count": 603,
   "metadata": {},
   "outputs": [
    {
     "data": {
      "image/png": "[encoded data removed]",
      "text/plain": [
       "<Figure size 432x288 with 2 Axes>"
      ]
     },
     "metadata": {
      "needs_background": "light"
     },
     "output_type": "display_data"
    }
   ],
   "source": [
    "sns.heatmap(confusion_matrix(model3.predict(X_test),y_test),annot = True)\n",
    "plt.show()"
   ]
  },
  {
   "cell_type": "code",
   "execution_count": 604,
   "metadata": {},
   "outputs": [],
   "source": [
    "from xgboost import XGBClassifier"
   ]
  },
  {
   "cell_type": "code",
   "execution_count": 605,
   "metadata": {},
   "outputs": [],
   "source": [
    "model4 = XGBClassifier()"
   ]
  },
  {
   "cell_type": "code",
   "execution_count": 606,
   "metadata": {},
   "outputs": [
    {
     "data": {
      "text/plain": [
       "XGBClassifier(base_score=0.5, booster='gbtree', colsample_bylevel=1,\n",
       "              colsample_bynode=1, colsample_bytree=1, gamma=0,\n",
       "              learning_rate=0.1, max_delta_step=0, max_depth=3,\n",
       "              min_child_weight=1, missing=None, n_estimators=100, n_jobs=1,\n",
       "              nthread=None, objective='binary:logistic', random_state=0,\n",
       "              reg_alpha=0, reg_lambda=1, scale_pos_weight=1, seed=None,\n",
       "              silent=None, subsample=1, verbosity=1)"
      ]
     },
     "execution_count": 606,
     "metadata": {},
     "output_type": "execute_result"
    }
   ],
   "source": [
    "model4.fit(X_train,y_train)"
   ]
  },
  {
   "cell_type": "code",
   "execution_count": 607,
   "metadata": {},
   "outputs": [
    {
     "data": {
      "text/plain": [
       "0.7564814814814815"
      ]
     },
     "execution_count": 607,
     "metadata": {},
     "output_type": "execute_result"
    }
   ],
   "source": [
    "model4.score(X_test,y_test)"
   ]
  },
  {
   "cell_type": "code",
   "execution_count": 608,
   "metadata": {},
   "outputs": [
    {
     "data": {
      "image/png": "[encoded data removed]",
      "text/plain": [
       "<Figure size 432x288 with 2 Axes>"
      ]
     },
     "metadata": {
      "needs_background": "light"
     },
     "output_type": "display_data"
    }
   ],
   "source": [
    "sns.heatmap(confusion_matrix(model4.predict(X_test),y_test),annot = True)\n",
    "plt.show()"
   ]
  },
  {
   "cell_type": "code",
   "execution_count": 609,
   "metadata": {},
   "outputs": [
    {
     "data": {
      "text/plain": [
       "array([[5857, 1477],\n",
       "       [1153, 2313]], dtype=int64)"
      ]
     },
     "execution_count": 609,
     "metadata": {},
     "output_type": "execute_result"
    }
   ],
   "source": [
    "confusion_matrix(model4.predict(X_test),y_test)"
   ]
  },
  {
   "cell_type": "markdown",
   "metadata": {},
   "source": [
    "WE CAN SEE FROM ALL THE ABOVE MODELS THAT THE FPR,TPR FOR EACH MODEL IS GOOD FOR XGBOOST , SO WE ARE GOING TO STICK TO THAT MODEL."
   ]
  },
  {
   "cell_type": "markdown",
   "metadata": {},
   "source": [
    "# Final Model With All Records"
   ]
  },
  {
   "cell_type": "code",
   "execution_count": 610,
   "metadata": {},
   "outputs": [],
   "source": [
    "final_model = XGBClassifier()"
   ]
  },
  {
   "cell_type": "code",
   "execution_count": 611,
   "metadata": {},
   "outputs": [
    {
     "data": {
      "text/plain": [
       "XGBClassifier(base_score=0.5, booster='gbtree', colsample_bylevel=1,\n",
       "              colsample_bynode=1, colsample_bytree=1, gamma=0,\n",
       "              learning_rate=0.1, max_delta_step=0, max_depth=3,\n",
       "              min_child_weight=1, missing=None, n_estimators=100, n_jobs=1,\n",
       "              nthread=None, objective='binary:logistic', random_state=0,\n",
       "              reg_alpha=0, reg_lambda=1, scale_pos_weight=1, seed=None,\n",
       "              silent=None, subsample=1, verbosity=1)"
      ]
     },
     "execution_count": 611,
     "metadata": {},
     "output_type": "execute_result"
    }
   ],
   "source": [
    "final_model.fit(X,y)"
   ]
  },
  {
   "cell_type": "markdown",
   "metadata": {},
   "source": [
    "# Test Data"
   ]
  },
  {
   "cell_type": "code",
   "execution_count": 612,
   "metadata": {},
   "outputs": [
    {
     "data": {
      "text/html": [
       "<div>\n",
       "<style scoped>\n",
       "    .dataframe tbody tr th:only-of-type {\n",
       "        vertical-align: middle;\n",
       "    }\n",
       "\n",
       "    .dataframe tbody tr th {\n",
       "        vertical-align: top;\n",
       "    }\n",
       "\n",
       "    .dataframe thead th {\n",
       "        text-align: right;\n",
       "    }\n",
       "</style>\n",
       "<table border=\"1\" class=\"dataframe\">\n",
       "  <thead>\n",
       "    <tr style=\"text-align: right;\">\n",
       "      <th></th>\n",
       "      <th>customer_id</th>\n",
       "      <th>is_returning_customer</th>\n",
       "      <th>favorite_genres</th>\n",
       "      <th>product_id</th>\n",
       "    </tr>\n",
       "  </thead>\n",
       "  <tbody>\n",
       "    <tr>\n",
       "      <th>0</th>\n",
       "      <td>1000078</td>\n",
       "      <td>True</td>\n",
       "      <td>['Classic', 'History', 'Self-Help', 'Romance',...</td>\n",
       "      <td>1832547</td>\n",
       "    </tr>\n",
       "    <tr>\n",
       "      <th>1</th>\n",
       "      <td>1000078</td>\n",
       "      <td>True</td>\n",
       "      <td>['Classic', 'History', 'Self-Help', 'Romance',...</td>\n",
       "      <td>1880646</td>\n",
       "    </tr>\n",
       "    <tr>\n",
       "      <th>2</th>\n",
       "      <td>1000078</td>\n",
       "      <td>True</td>\n",
       "      <td>['Classic', 'History', 'Self-Help', 'Romance',...</td>\n",
       "      <td>1014973</td>\n",
       "    </tr>\n",
       "    <tr>\n",
       "      <th>3</th>\n",
       "      <td>1000078</td>\n",
       "      <td>True</td>\n",
       "      <td>['Classic', 'History', 'Self-Help', 'Romance',...</td>\n",
       "      <td>1650307</td>\n",
       "    </tr>\n",
       "    <tr>\n",
       "      <th>4</th>\n",
       "      <td>1000078</td>\n",
       "      <td>True</td>\n",
       "      <td>['Classic', 'History', 'Self-Help', 'Romance',...</td>\n",
       "      <td>1755017</td>\n",
       "    </tr>\n",
       "  </tbody>\n",
       "</table>\n",
       "</div>"
      ],
      "text/plain": [
       "   customer_id  is_returning_customer  \\\n",
       "0      1000078                   True   \n",
       "1      1000078                   True   \n",
       "2      1000078                   True   \n",
       "3      1000078                   True   \n",
       "4      1000078                   True   \n",
       "\n",
       "                                     favorite_genres  product_id  \n",
       "0  ['Classic', 'History', 'Self-Help', 'Romance',...     1832547  \n",
       "1  ['Classic', 'History', 'Self-Help', 'Romance',...     1880646  \n",
       "2  ['Classic', 'History', 'Self-Help', 'Romance',...     1014973  \n",
       "3  ['Classic', 'History', 'Self-Help', 'Romance',...     1650307  \n",
       "4  ['Classic', 'History', 'Self-Help', 'Romance',...     1755017  "
      ]
     },
     "execution_count": 612,
     "metadata": {},
     "output_type": "execute_result"
    }
   ],
   "source": [
    "customer_next_month = pd.merge(customer,next_month,on='customer_id',how='right')\n",
    "customer_next_month.head()"
   ]
  },
  {
   "cell_type": "code",
   "execution_count": 615,
   "metadata": {},
   "outputs": [
    {
     "data": {
      "text/html": [
       "<div>\n",
       "<style scoped>\n",
       "    .dataframe tbody tr th:only-of-type {\n",
       "        vertical-align: middle;\n",
       "    }\n",
       "\n",
       "    .dataframe tbody tr th {\n",
       "        vertical-align: top;\n",
       "    }\n",
       "\n",
       "    .dataframe thead th {\n",
       "        text-align: right;\n",
       "    }\n",
       "</style>\n",
       "<table border=\"1\" class=\"dataframe\">\n",
       "  <thead>\n",
       "    <tr style=\"text-align: right;\">\n",
       "      <th></th>\n",
       "      <th>customer_id</th>\n",
       "      <th>is_returning_customer</th>\n",
       "      <th>favorite_genres</th>\n",
       "      <th>product_id</th>\n",
       "      <th>length</th>\n",
       "      <th>difficulty</th>\n",
       "      <th>fiction</th>\n",
       "      <th>genre</th>\n",
       "    </tr>\n",
       "  </thead>\n",
       "  <tbody>\n",
       "    <tr>\n",
       "      <th>0</th>\n",
       "      <td>1000078</td>\n",
       "      <td>True</td>\n",
       "      <td>['Classic', 'History', 'Self-Help', 'Romance',...</td>\n",
       "      <td>1832547</td>\n",
       "      <td>268</td>\n",
       "      <td>2</td>\n",
       "      <td>True</td>\n",
       "      <td>Beach-Read</td>\n",
       "    </tr>\n",
       "    <tr>\n",
       "      <th>1</th>\n",
       "      <td>1000078</td>\n",
       "      <td>True</td>\n",
       "      <td>['Classic', 'History', 'Self-Help', 'Romance',...</td>\n",
       "      <td>1880646</td>\n",
       "      <td>905</td>\n",
       "      <td>1</td>\n",
       "      <td>False</td>\n",
       "      <td>Pop-Psychology</td>\n",
       "    </tr>\n",
       "    <tr>\n",
       "      <th>2</th>\n",
       "      <td>1000078</td>\n",
       "      <td>True</td>\n",
       "      <td>['Classic', 'History', 'Self-Help', 'Romance',...</td>\n",
       "      <td>1014973</td>\n",
       "      <td>743</td>\n",
       "      <td>4</td>\n",
       "      <td>False</td>\n",
       "      <td>Self-Help</td>\n",
       "    </tr>\n",
       "    <tr>\n",
       "      <th>3</th>\n",
       "      <td>1000078</td>\n",
       "      <td>True</td>\n",
       "      <td>['Classic', 'History', 'Self-Help', 'Romance',...</td>\n",
       "      <td>1650307</td>\n",
       "      <td>643</td>\n",
       "      <td>3</td>\n",
       "      <td>False</td>\n",
       "      <td>Biography</td>\n",
       "    </tr>\n",
       "    <tr>\n",
       "      <th>4</th>\n",
       "      <td>1000078</td>\n",
       "      <td>True</td>\n",
       "      <td>['Classic', 'History', 'Self-Help', 'Romance',...</td>\n",
       "      <td>1755017</td>\n",
       "      <td>224</td>\n",
       "      <td>5</td>\n",
       "      <td>True</td>\n",
       "      <td>Drama</td>\n",
       "    </tr>\n",
       "  </tbody>\n",
       "</table>\n",
       "</div>"
      ],
      "text/plain": [
       "   customer_id  is_returning_customer  \\\n",
       "0      1000078                   True   \n",
       "1      1000078                   True   \n",
       "2      1000078                   True   \n",
       "3      1000078                   True   \n",
       "4      1000078                   True   \n",
       "\n",
       "                                     favorite_genres  product_id  length  \\\n",
       "0  ['Classic', 'History', 'Self-Help', 'Romance',...     1832547     268   \n",
       "1  ['Classic', 'History', 'Self-Help', 'Romance',...     1880646     905   \n",
       "2  ['Classic', 'History', 'Self-Help', 'Romance',...     1014973     743   \n",
       "3  ['Classic', 'History', 'Self-Help', 'Romance',...     1650307     643   \n",
       "4  ['Classic', 'History', 'Self-Help', 'Romance',...     1755017     224   \n",
       "\n",
       "   difficulty  fiction           genre  \n",
       "0           2     True      Beach-Read  \n",
       "1           1    False  Pop-Psychology  \n",
       "2           4    False       Self-Help  \n",
       "3           3    False       Biography  \n",
       "4           5     True           Drama  "
      ]
     },
     "execution_count": 615,
     "metadata": {},
     "output_type": "execute_result"
    }
   ],
   "source": [
    "customer_next_month_features = pd.merge(customer_next_month,prod_features,on='product_id',how='left')\n",
    "customer_next_month_features.head()"
   ]
  },
  {
   "cell_type": "code",
   "execution_count": 616,
   "metadata": {},
   "outputs": [],
   "source": [
    "customer_next_month_features.drop(['favorite_genres','genre'],axis = 1,inplace = True)"
   ]
  },
  {
   "cell_type": "code",
   "execution_count": 617,
   "metadata": {},
   "outputs": [],
   "source": [
    "final_test = customer_next_month_features.copy()"
   ]
  },
  {
   "cell_type": "code",
   "execution_count": 618,
   "metadata": {},
   "outputs": [
    {
     "name": "stdout",
     "output_type": "stream",
     "text": [
      "<class 'pandas.core.frame.DataFrame'>\n",
      "Int64Index: 56400 entries, 0 to 56399\n",
      "Data columns (total 6 columns):\n",
      "customer_id              56400 non-null int64\n",
      "is_returning_customer    56400 non-null bool\n",
      "product_id               56400 non-null int64\n",
      "length                   56400 non-null int64\n",
      "difficulty               56400 non-null int64\n",
      "fiction                  56400 non-null bool\n",
      "dtypes: bool(2), int64(4)\n",
      "memory usage: 2.3 MB\n"
     ]
    }
   ],
   "source": [
    "final_test.info()"
   ]
  },
  {
   "cell_type": "code",
   "execution_count": 619,
   "metadata": {},
   "outputs": [],
   "source": [
    "final_test['is_returning_customer'] = le1.transform(final_test['is_returning_customer'])"
   ]
  },
  {
   "cell_type": "code",
   "execution_count": 620,
   "metadata": {},
   "outputs": [],
   "source": [
    "final_test['fiction'] = le3.transform(final_test['fiction'])"
   ]
  },
  {
   "cell_type": "code",
   "execution_count": 621,
   "metadata": {},
   "outputs": [],
   "source": [
    "final_test['purchased'] = final_model.predict(final_test)"
   ]
  },
  {
   "cell_type": "code",
   "execution_count": 622,
   "metadata": {},
   "outputs": [
    {
     "data": {
      "text/html": [
       "<div>\n",
       "<style scoped>\n",
       "    .dataframe tbody tr th:only-of-type {\n",
       "        vertical-align: middle;\n",
       "    }\n",
       "\n",
       "    .dataframe tbody tr th {\n",
       "        vertical-align: top;\n",
       "    }\n",
       "\n",
       "    .dataframe thead th {\n",
       "        text-align: right;\n",
       "    }\n",
       "</style>\n",
       "<table border=\"1\" class=\"dataframe\">\n",
       "  <thead>\n",
       "    <tr style=\"text-align: right;\">\n",
       "      <th></th>\n",
       "      <th>customer_id</th>\n",
       "      <th>is_returning_customer</th>\n",
       "      <th>product_id</th>\n",
       "      <th>length</th>\n",
       "      <th>difficulty</th>\n",
       "      <th>fiction</th>\n",
       "      <th>purchased</th>\n",
       "    </tr>\n",
       "  </thead>\n",
       "  <tbody>\n",
       "    <tr>\n",
       "      <th>0</th>\n",
       "      <td>1000078</td>\n",
       "      <td>1</td>\n",
       "      <td>1832547</td>\n",
       "      <td>268</td>\n",
       "      <td>2</td>\n",
       "      <td>1</td>\n",
       "      <td>0</td>\n",
       "    </tr>\n",
       "    <tr>\n",
       "      <th>1</th>\n",
       "      <td>1000078</td>\n",
       "      <td>1</td>\n",
       "      <td>1880646</td>\n",
       "      <td>905</td>\n",
       "      <td>1</td>\n",
       "      <td>0</td>\n",
       "      <td>0</td>\n",
       "    </tr>\n",
       "    <tr>\n",
       "      <th>2</th>\n",
       "      <td>1000078</td>\n",
       "      <td>1</td>\n",
       "      <td>1014973</td>\n",
       "      <td>743</td>\n",
       "      <td>4</td>\n",
       "      <td>0</td>\n",
       "      <td>0</td>\n",
       "    </tr>\n",
       "    <tr>\n",
       "      <th>3</th>\n",
       "      <td>1000078</td>\n",
       "      <td>1</td>\n",
       "      <td>1650307</td>\n",
       "      <td>643</td>\n",
       "      <td>3</td>\n",
       "      <td>0</td>\n",
       "      <td>1</td>\n",
       "    </tr>\n",
       "    <tr>\n",
       "      <th>4</th>\n",
       "      <td>1000078</td>\n",
       "      <td>1</td>\n",
       "      <td>1755017</td>\n",
       "      <td>224</td>\n",
       "      <td>5</td>\n",
       "      <td>1</td>\n",
       "      <td>0</td>\n",
       "    </tr>\n",
       "  </tbody>\n",
       "</table>\n",
       "</div>"
      ],
      "text/plain": [
       "   customer_id  is_returning_customer  product_id  length  difficulty  \\\n",
       "0      1000078                      1     1832547     268           2   \n",
       "1      1000078                      1     1880646     905           1   \n",
       "2      1000078                      1     1014973     743           4   \n",
       "3      1000078                      1     1650307     643           3   \n",
       "4      1000078                      1     1755017     224           5   \n",
       "\n",
       "   fiction  purchased  \n",
       "0        1          0  \n",
       "1        0          0  \n",
       "2        0          0  \n",
       "3        0          1  \n",
       "4        1          0  "
      ]
     },
     "execution_count": 622,
     "metadata": {},
     "output_type": "execute_result"
    }
   ],
   "source": [
    "final_test.head()"
   ]
  },
  {
   "cell_type": "markdown",
   "metadata": {},
   "source": [
    "# Predicting the revenue for previous month "
   ]
  },
  {
   "cell_type": "code",
   "execution_count": 623,
   "metadata": {},
   "outputs": [],
   "source": [
    "new_train = pd.merge(customer_last_month_features,original_order,on='product_id',how='left')"
   ]
  },
  {
   "cell_type": "code",
   "execution_count": 624,
   "metadata": {},
   "outputs": [
    {
     "data": {
      "text/html": [
       "<div>\n",
       "<style scoped>\n",
       "    .dataframe tbody tr th:only-of-type {\n",
       "        vertical-align: middle;\n",
       "    }\n",
       "\n",
       "    .dataframe tbody tr th {\n",
       "        vertical-align: top;\n",
       "    }\n",
       "\n",
       "    .dataframe thead th {\n",
       "        text-align: right;\n",
       "    }\n",
       "</style>\n",
       "<table border=\"1\" class=\"dataframe\">\n",
       "  <thead>\n",
       "    <tr style=\"text-align: right;\">\n",
       "      <th></th>\n",
       "      <th>customer_id</th>\n",
       "      <th>is_returning_customer</th>\n",
       "      <th>product_id</th>\n",
       "      <th>purchased</th>\n",
       "      <th>length</th>\n",
       "      <th>difficulty</th>\n",
       "      <th>fiction</th>\n",
       "      <th>quantity_purchased</th>\n",
       "      <th>cost_to_buy</th>\n",
       "      <th>retail_value</th>\n",
       "    </tr>\n",
       "  </thead>\n",
       "  <tbody>\n",
       "    <tr>\n",
       "      <th>0</th>\n",
       "      <td>1000078</td>\n",
       "      <td>True</td>\n",
       "      <td>1730073</td>\n",
       "      <td>False</td>\n",
       "      <td>219</td>\n",
       "      <td>4</td>\n",
       "      <td>True</td>\n",
       "      <td>81</td>\n",
       "      <td>1.74</td>\n",
       "      <td>10.21</td>\n",
       "    </tr>\n",
       "    <tr>\n",
       "      <th>1</th>\n",
       "      <td>1004863</td>\n",
       "      <td>True</td>\n",
       "      <td>1730073</td>\n",
       "      <td>False</td>\n",
       "      <td>219</td>\n",
       "      <td>4</td>\n",
       "      <td>True</td>\n",
       "      <td>81</td>\n",
       "      <td>1.74</td>\n",
       "      <td>10.21</td>\n",
       "    </tr>\n",
       "    <tr>\n",
       "      <th>2</th>\n",
       "      <td>1023962</td>\n",
       "      <td>True</td>\n",
       "      <td>1730073</td>\n",
       "      <td>False</td>\n",
       "      <td>219</td>\n",
       "      <td>4</td>\n",
       "      <td>True</td>\n",
       "      <td>81</td>\n",
       "      <td>1.74</td>\n",
       "      <td>10.21</td>\n",
       "    </tr>\n",
       "    <tr>\n",
       "      <th>3</th>\n",
       "      <td>1051139</td>\n",
       "      <td>True</td>\n",
       "      <td>1730073</td>\n",
       "      <td>False</td>\n",
       "      <td>219</td>\n",
       "      <td>4</td>\n",
       "      <td>True</td>\n",
       "      <td>81</td>\n",
       "      <td>1.74</td>\n",
       "      <td>10.21</td>\n",
       "    </tr>\n",
       "    <tr>\n",
       "      <th>4</th>\n",
       "      <td>1083822</td>\n",
       "      <td>False</td>\n",
       "      <td>1730073</td>\n",
       "      <td>False</td>\n",
       "      <td>219</td>\n",
       "      <td>4</td>\n",
       "      <td>True</td>\n",
       "      <td>81</td>\n",
       "      <td>1.74</td>\n",
       "      <td>10.21</td>\n",
       "    </tr>\n",
       "  </tbody>\n",
       "</table>\n",
       "</div>"
      ],
      "text/plain": [
       "   customer_id  is_returning_customer  product_id  purchased  length  \\\n",
       "0      1000078                   True     1730073      False     219   \n",
       "1      1004863                   True     1730073      False     219   \n",
       "2      1023962                   True     1730073      False     219   \n",
       "3      1051139                   True     1730073      False     219   \n",
       "4      1083822                  False     1730073      False     219   \n",
       "\n",
       "   difficulty  fiction  quantity_purchased  cost_to_buy  retail_value  \n",
       "0           4     True                  81         1.74         10.21  \n",
       "1           4     True                  81         1.74         10.21  \n",
       "2           4     True                  81         1.74         10.21  \n",
       "3           4     True                  81         1.74         10.21  \n",
       "4           4     True                  81         1.74         10.21  "
      ]
     },
     "execution_count": 624,
     "metadata": {},
     "output_type": "execute_result"
    }
   ],
   "source": [
    "new_train.head()"
   ]
  },
  {
   "cell_type": "code",
   "execution_count": 625,
   "metadata": {},
   "outputs": [],
   "source": [
    "returned_books = new_train[new_train['purchased'] == False]"
   ]
  },
  {
   "cell_type": "code",
   "execution_count": 626,
   "metadata": {},
   "outputs": [],
   "source": [
    "purchased_books = new_train[new_train['purchased'] == True]"
   ]
  },
  {
   "cell_type": "code",
   "execution_count": 627,
   "metadata": {},
   "outputs": [],
   "source": [
    "no_of_books_returned = returned_books.shape[0]"
   ]
  },
  {
   "cell_type": "code",
   "execution_count": 628,
   "metadata": {},
   "outputs": [],
   "source": [
    "no_of_books_purchased = purchased_books.shape[0]"
   ]
  },
  {
   "cell_type": "code",
   "execution_count": 629,
   "metadata": {},
   "outputs": [],
   "source": [
    "total_cost_to_transport = no_of_books_returned*1.2+no_of_books_purchased*0.6"
   ]
  },
  {
   "cell_type": "code",
   "execution_count": 630,
   "metadata": {},
   "outputs": [],
   "source": [
    "loan_amount = sum(original_order['quantity_purchased']*original_order['cost_to_buy'])"
   ]
  },
  {
   "cell_type": "code",
   "execution_count": 631,
   "metadata": {},
   "outputs": [],
   "source": [
    "returns = sum(purchased_books['retail_value'])"
   ]
  },
  {
   "cell_type": "code",
   "execution_count": 650,
   "metadata": {},
   "outputs": [],
   "source": [
    "revenue = returns- total_cost_to_transport"
   ]
  },
  {
   "cell_type": "code",
   "execution_count": 651,
   "metadata": {},
   "outputs": [
    {
     "name": "stdout",
     "output_type": "stream",
     "text": [
      "The Total revenue for the previous month: 116024.7599999976\n"
     ]
    }
   ],
   "source": [
    "print('The Total revenue for the previous month: {}'.format(revenue))"
   ]
  },
  {
   "cell_type": "code",
   "execution_count": 656,
   "metadata": {},
   "outputs": [
    {
     "name": "stdout",
     "output_type": "stream",
     "text": [
      "The loan Amount for previous month :135546.42\n"
     ]
    }
   ],
   "source": [
    "print('The loan Amount for previous month :{}'.format(loan_amount))"
   ]
  },
  {
   "cell_type": "markdown",
   "metadata": {},
   "source": [
    "# Predicting the revenue for the next month"
   ]
  },
  {
   "cell_type": "code",
   "execution_count": 634,
   "metadata": {},
   "outputs": [
    {
     "data": {
      "text/html": [
       "<div>\n",
       "<style scoped>\n",
       "    .dataframe tbody tr th:only-of-type {\n",
       "        vertical-align: middle;\n",
       "    }\n",
       "\n",
       "    .dataframe tbody tr th {\n",
       "        vertical-align: top;\n",
       "    }\n",
       "\n",
       "    .dataframe thead th {\n",
       "        text-align: right;\n",
       "    }\n",
       "</style>\n",
       "<table border=\"1\" class=\"dataframe\">\n",
       "  <thead>\n",
       "    <tr style=\"text-align: right;\">\n",
       "      <th></th>\n",
       "      <th>customer_id</th>\n",
       "      <th>is_returning_customer</th>\n",
       "      <th>product_id</th>\n",
       "      <th>length</th>\n",
       "      <th>difficulty</th>\n",
       "      <th>fiction</th>\n",
       "      <th>purchased</th>\n",
       "    </tr>\n",
       "  </thead>\n",
       "  <tbody>\n",
       "    <tr>\n",
       "      <th>0</th>\n",
       "      <td>1000078</td>\n",
       "      <td>1</td>\n",
       "      <td>1832547</td>\n",
       "      <td>268</td>\n",
       "      <td>2</td>\n",
       "      <td>1</td>\n",
       "      <td>0</td>\n",
       "    </tr>\n",
       "    <tr>\n",
       "      <th>1</th>\n",
       "      <td>1000078</td>\n",
       "      <td>1</td>\n",
       "      <td>1880646</td>\n",
       "      <td>905</td>\n",
       "      <td>1</td>\n",
       "      <td>0</td>\n",
       "      <td>0</td>\n",
       "    </tr>\n",
       "    <tr>\n",
       "      <th>2</th>\n",
       "      <td>1000078</td>\n",
       "      <td>1</td>\n",
       "      <td>1014973</td>\n",
       "      <td>743</td>\n",
       "      <td>4</td>\n",
       "      <td>0</td>\n",
       "      <td>0</td>\n",
       "    </tr>\n",
       "    <tr>\n",
       "      <th>3</th>\n",
       "      <td>1000078</td>\n",
       "      <td>1</td>\n",
       "      <td>1650307</td>\n",
       "      <td>643</td>\n",
       "      <td>3</td>\n",
       "      <td>0</td>\n",
       "      <td>1</td>\n",
       "    </tr>\n",
       "    <tr>\n",
       "      <th>4</th>\n",
       "      <td>1000078</td>\n",
       "      <td>1</td>\n",
       "      <td>1755017</td>\n",
       "      <td>224</td>\n",
       "      <td>5</td>\n",
       "      <td>1</td>\n",
       "      <td>0</td>\n",
       "    </tr>\n",
       "  </tbody>\n",
       "</table>\n",
       "</div>"
      ],
      "text/plain": [
       "   customer_id  is_returning_customer  product_id  length  difficulty  \\\n",
       "0      1000078                      1     1832547     268           2   \n",
       "1      1000078                      1     1880646     905           1   \n",
       "2      1000078                      1     1014973     743           4   \n",
       "3      1000078                      1     1650307     643           3   \n",
       "4      1000078                      1     1755017     224           5   \n",
       "\n",
       "   fiction  purchased  \n",
       "0        1          0  \n",
       "1        0          0  \n",
       "2        0          0  \n",
       "3        0          1  \n",
       "4        1          0  "
      ]
     },
     "execution_count": 634,
     "metadata": {},
     "output_type": "execute_result"
    }
   ],
   "source": [
    "final_test.head()"
   ]
  },
  {
   "cell_type": "code",
   "execution_count": 635,
   "metadata": {},
   "outputs": [],
   "source": [
    "not_purchased = final_test[final_test['purchased'] == 0]"
   ]
  },
  {
   "cell_type": "code",
   "execution_count": 636,
   "metadata": {},
   "outputs": [],
   "source": [
    "purchased = final_test[final_test['purchased'] == 1]"
   ]
  },
  {
   "cell_type": "code",
   "execution_count": 637,
   "metadata": {},
   "outputs": [],
   "source": [
    "no_not_purchased =not_purchased.shape[0]"
   ]
  },
  {
   "cell_type": "code",
   "execution_count": 638,
   "metadata": {},
   "outputs": [],
   "source": [
    "no_purchased = purchased.shape[0]"
   ]
  },
  {
   "cell_type": "code",
   "execution_count": 639,
   "metadata": {},
   "outputs": [],
   "source": [
    "new_total_cost_to_transport = no_not_purchased*1.2+no_purchased*0.6"
   ]
  },
  {
   "cell_type": "code",
   "execution_count": 640,
   "metadata": {},
   "outputs": [],
   "source": [
    "new_loan_amount = sum(next_order['quantity_purchased']*next_order['cost_to_buy'])"
   ]
  },
  {
   "cell_type": "code",
   "execution_count": 643,
   "metadata": {},
   "outputs": [],
   "source": [
    "new_test = pd.merge(purchased,original_order,on='product_id',how='left')"
   ]
  },
  {
   "cell_type": "code",
   "execution_count": 644,
   "metadata": {},
   "outputs": [],
   "source": [
    "new_returns = sum(new_test['retail_value'])"
   ]
  },
  {
   "cell_type": "code",
   "execution_count": 653,
   "metadata": {},
   "outputs": [],
   "source": [
    "new_revenue = new_returns- new_total_cost_to_transport"
   ]
  },
  {
   "cell_type": "code",
   "execution_count": 655,
   "metadata": {},
   "outputs": [
    {
     "name": "stdout",
     "output_type": "stream",
     "text": [
      "The Total revenue for the next month: 134991.21000000075\n"
     ]
    }
   ],
   "source": [
    "print('The Total revenue for the next month: {}'.format(new_revenue))"
   ]
  },
  {
   "cell_type": "code",
   "execution_count": 658,
   "metadata": {},
   "outputs": [
    {
     "name": "stdout",
     "output_type": "stream",
     "text": [
      "The loan Amount for next month :24155.509999999984\n"
     ]
    }
   ],
   "source": [
    "print('The loan Amount for next month :{}'.format(new_loan_amount))"
   ]
  },
  {
   "cell_type": "markdown",
   "metadata": {},
   "source": [
    "# Conclusion"
   ]
  },
  {
   "cell_type": "markdown",
   "metadata": {},
   "source": [
    "WE CAN CLEARLY SEE THAT THE REVENUE FOR PREVIOUS MONTH IS CLEARLY NOT ENOUGH FOR THE LOAN AMOUNT, BUT WHEN THE REVENUE IS COMBINED WITH THE NEXT MONTH'S REVENUE, IT HAS INCREASED AND ALSO WE CAN CLEAR NEXT MONTH'S LOAN AMOUNT AS WELL, WHICH WILL GIVE THE COMPANY, PROFITS."
   ]
  },
  {
   "cell_type": "code",
   "execution_count": null,
   "metadata": {},
   "outputs": [],
   "source": []
  }
 ],
 "metadata": {
  "kernelspec": {
   "display_name": "Python 3",
   "language": "python",
   "name": "python3"
  },
  "language_info": {
   "codemirror_mode": {
    "name": "ipython",
    "version": 3
   },
   "file_extension": ".py",
   "mimetype": "text/x-python",
   "name": "python",
   "nbconvert_exporter": "python",
   "pygments_lexer": "ipython3",
   "version": "3.7.3"
  }
 },
 "nbformat": 4,
 "nbformat_minor": 2
}
